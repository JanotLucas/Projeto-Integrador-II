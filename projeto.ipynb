{
 "cells": [
  {
   "cell_type": "markdown",
   "metadata": {},
   "source": [
    "# Projeto Integrador II"
   ]
  },
  {
   "cell_type": "markdown",
   "metadata": {},
   "source": [
    "## 1. Bibliotecas\n"
   ]
  },
  {
   "cell_type": "code",
   "execution_count": 107,
   "metadata": {},
   "outputs": [],
   "source": [
    "import pandas as pd"
   ]
  },
  {
   "cell_type": "markdown",
   "metadata": {},
   "source": [
    "## 2. Importação da Base de dados"
   ]
  },
  {
   "cell_type": "code",
   "execution_count": 108,
   "metadata": {},
   "outputs": [],
   "source": [
    "# Carregar os dados dos alunos\n",
    "alunos_df = pd.read_csv('dados.csv', sep=';')"
   ]
  },
  {
   "cell_type": "code",
   "execution_count": 109,
   "metadata": {},
   "outputs": [
    {
     "name": "stdout",
     "output_type": "stream",
     "text": [
      "<class 'pandas.core.frame.DataFrame'>\n",
      "RangeIndex: 28 entries, 0 to 27\n",
      "Data columns (total 18 columns):\n",
      " #   Column                     Non-Null Count  Dtype \n",
      "---  ------                     --------------  ----- \n",
      " 0   SEXO                       28 non-null     int64 \n",
      " 1   PESO(Kg)                   28 non-null     object\n",
      " 2   ALTURA(cm)                 28 non-null     int64 \n",
      " 3   PERIMETRIA AB(cm)          28 non-null     int64 \n",
      " 4   RCE                        28 non-null     object\n",
      " 5   IMC                        28 non-null     object\n",
      " 6   CORRIDA 6MIN               27 non-null     object\n",
      " 7   FLEXIBILIDADE              28 non-null     int64 \n",
      " 8   ABDOMINAL                  28 non-null     int64 \n",
      " 9   FORÇA MMS                  28 non-null     int64 \n",
      " 10  VELOCIDADE                 26 non-null     object\n",
      " 11  CARDIO                     27 non-null     object\n",
      " 12  FLEXIBILIDADE2             28 non-null     object\n",
      " 13  RESISTENCIA M. LOCALIZADA  28 non-null     object\n",
      " 14  POTENCIA MMSS              28 non-null     object\n",
      " 15  POTENCIA MMII              26 non-null     object\n",
      " 16  AGILIDADE                  27 non-null     object\n",
      " 17  VELOCIDADE3                26 non-null     object\n",
      "dtypes: int64(6), object(12)\n",
      "memory usage: 4.1+ KB\n"
     ]
    }
   ],
   "source": [
    "alunos_df.info()"
   ]
  },
  {
   "cell_type": "code",
   "execution_count": 110,
   "metadata": {},
   "outputs": [
    {
     "data": {
      "text/plain": [
       "'CORRIDA 6MIN'"
      ]
     },
     "execution_count": 110,
     "metadata": {},
     "output_type": "execute_result"
    }
   ],
   "source": [
    "alunos_df.columns[6]"
   ]
  },
  {
   "cell_type": "markdown",
   "metadata": {},
   "source": [
    "## Tratamento dos dados"
   ]
  },
  {
   "cell_type": "code",
   "execution_count": 111,
   "metadata": {},
   "outputs": [],
   "source": [
    "colunas_numericas = ['PESO(Kg)', 'RCE', 'IMC', 'CORRIDA 6MIN', 'VELOCIDADE']\n",
    "\n",
    "for coluna in colunas_numericas:\n",
    "    # Removendo as vírgulas\n",
    "    alunos_df[coluna] = alunos_df[coluna].astype(str).str.replace(',', '.')\n",
    "    # Convertendo a coluna para o tpo float\n",
    "    alunos_df[coluna] = alunos_df[coluna].astype('float64')\n",
    "\n",
    "\n"
   ]
  },
  {
   "cell_type": "code",
   "execution_count": 127,
   "metadata": {},
   "outputs": [
    {
     "name": "stdout",
     "output_type": "stream",
     "text": [
      "<class 'pandas.core.frame.DataFrame'>\n",
      "RangeIndex: 28 entries, 0 to 27\n",
      "Data columns (total 18 columns):\n",
      " #   Column                     Non-Null Count  Dtype  \n",
      "---  ------                     --------------  -----  \n",
      " 0   SEXO                       28 non-null     int64  \n",
      " 1   PESO(Kg)                   28 non-null     float64\n",
      " 2   ALTURA(cm)                 28 non-null     int64  \n",
      " 3   PERIMETRIA AB(cm)          28 non-null     int64  \n",
      " 4   RCE                        28 non-null     float64\n",
      " 5   IMC                        28 non-null     float64\n",
      " 6   CORRIDA 6MIN               27 non-null     float64\n",
      " 7   FLEXIBILIDADE              28 non-null     int64  \n",
      " 8   ABDOMINAL                  28 non-null     int64  \n",
      " 9   FORÇA MMS                  28 non-null     int64  \n",
      " 10  VELOCIDADE                 26 non-null     float64\n",
      " 11  CARDIO                     27 non-null     object \n",
      " 12  FLEXIBILIDADE2             28 non-null     object \n",
      " 13  RESISTENCIA M. LOCALIZADA  28 non-null     object \n",
      " 14  POTENCIA MMSS              28 non-null     object \n",
      " 15  POTENCIA MMII              26 non-null     object \n",
      " 16  AGILIDADE                  27 non-null     object \n",
      " 17  VELOCIDADE3                26 non-null     object \n",
      "dtypes: float64(5), int64(6), object(7)\n",
      "memory usage: 4.1+ KB\n"
     ]
    }
   ],
   "source": [
    "alunos_df.info()"
   ]
  },
  {
   "cell_type": "markdown",
   "metadata": {},
   "source": [
    "## Regras de Classificação"
   ]
  },
  {
   "cell_type": "code",
   "execution_count": 124,
   "metadata": {},
   "outputs": [],
   "source": [
    "faixas_etarias = {\n",
    "    'CORRIDA 6MIN': {\n",
    "        1: {\n",
    "            6: {'Fraco': (0, 730), 'Razoável': (730, 827), 'Bom': (827, 957), 'M. Bom': (957, 1317), 'Excelência': (1317, float('inf'))},\n",
    "            7: {'Fraco': (0, 752), 'Razoável': (752, 849), 'Bom': (849, 975), 'M. Bom': (975, 1302), 'Excelência': (1302, float('inf'))},\n",
    "            8: {'Fraco': (0, 774), 'Razoável': (774, 871), 'Bom': (871, 995), 'M. Bom': (995, 1301), 'Excelência': (1301, float('inf'))},\n",
    "            9: {'Fraco': (0, 797), 'Razoável': (797, 894), 'Bom': (894, 1018), 'M. Bom': (1018, 1322), 'Excelência': (1322, float('inf'))},\n",
    "            10: {'Fraco': (0, 817), 'Razoável': (817, 916), 'Bom': (916, 1040), 'M. Bom': (1040, 1323), 'Excelência': (1323, float('inf'))},\n",
    "            11: {'Fraco': (0, 837), 'Razoável': (837, 936), 'Bom': (936, 1062), 'M. Bom': (1062, 1328), 'Excelência': (1328, float('inf'))},\n",
    "            12: {'Fraco': (0, 860), 'Razoável': (860, 965), 'Bom': (965, 1090), 'M. Bom': (1090, 1366), 'Excelência': (1366, float('inf'))},\n",
    "            13: {'Fraco': (0, 893), 'Razoável': (893, 1005), 'Bom': (1005, 1132), 'M. Bom': (1132, 1444), 'Excelência': (1444, float('inf'))},\n",
    "            14: {'Fraco': (0, 939), 'Razoável': (939, 1057), 'Bom': (1057, 1197), 'M. Bom': (1197, 1498), 'Excelência': (1498, float('inf'))},\n",
    "            15: {'Fraco': (0, 986), 'Razoável': (986, 1112), 'Bom': (1112, 1268), 'M. Bom': (1268, 1543), 'Excelência': (1543, float('inf'))},\n",
    "            16: {'Fraco': (0, 1015), 'Razoável': (1015, 1149), 'Bom': (1149, 1306), 'M. Bom': (1306, 1644), 'Excelência': (1644, float('inf'))},\n",
    "            17: {'Fraco': (0, 1038), 'Razoável': (1038, 1177), 'Bom': (1177, 1341), 'M. Bom': (1341, 1692), 'Excelência': (1692, float('inf'))}\n",
    "        },\n",
    "        0: {\n",
    "            6: {'Fraco': (0, 672), 'Razoável': (672, 768), 'Bom': (768, 901), 'M. Bom': (901, 1277), 'Excelência': (1277, float('inf'))},\n",
    "            7: {'Fraco': (0, 691), 'Razoável': (691, 789), 'Bom': (789, 923), 'M. Bom': (923, 1299), 'Excelência': (1299, float('inf'))},\n",
    "            8: {'Fraco': (0, 707), 'Razoável': (707, 792), 'Bom': (792, 895), 'M. Bom': (895, 1132), 'Excelência': (1132, float('inf'))},\n",
    "            9: {'Fraco': (0, 720), 'Razoável': (720, 806), 'Bom': (806, 918), 'M. Bom': (918, 1210), 'Excelência': (1210, float('inf'))},\n",
    "            10: {'Fraco': (0, 729), 'Razoável': (729, 819), 'Bom': (819, 932), 'M. Bom': (932, 1199), 'Excelência': (1199, float('inf'))},\n",
    "            11: {'Fraco': (0, 736), 'Razoável': (736, 836), 'Bom': (836, 950), 'M. Bom': (950, 1225), 'Excelência': (1225, float('inf'))},\n",
    "            12: {'Fraco': (0, 743), 'Razoável': (743, 849), 'Bom': (849, 963), 'M. Bom': (963, 1252), 'Excelência': (1252, float('inf'))},\n",
    "            13: {'Fraco': (0, 749), 'Razoável': (749, 839), 'Bom': (839, 983), 'M. Bom': (983, 1259), 'Excelência': (1259, float('inf'))},\n",
    "            14: {'Fraco': (0, 748), 'Razoável': (748, 874), 'Bom': (874, 1011), 'M. Bom': (1011, 1255), 'Excelência': (1255, float('inf'))},\n",
    "            15: {'Fraco': (0, 748), 'Razoável': (748, 874), 'Bom': (874, 1038), 'M. Bom': (1038, 1335), 'Excelência': (1335, float('inf'))},\n",
    "            16: {'Fraco': (0, 748), 'Razoável': (748, 874), 'Bom': (874, 1078), 'M. Bom': (1078, 1341), 'Excelência': (1341, float('inf'))},\n",
    "            17: {'Fraco': (0, 748), 'Razoável': (748, 874), 'Bom': (874, 1078), 'M. Bom': (1078, 1341), 'Excelência': (1341, float('inf'))}\n",
    "        }\n",
    "    }\n",
    "}\n"
   ]
  },
  {
   "cell_type": "markdown",
   "metadata": {},
   "source": [
    "# Estimador de Idades"
   ]
  },
  {
   "cell_type": "code",
   "execution_count": 136,
   "metadata": {},
   "outputs": [
    {
     "ename": "ValueError",
     "evalue": "too many values to unpack (expected 2)",
     "output_type": "error",
     "traceback": [
      "\u001b[1;31m---------------------------------------------------------------------------\u001b[0m",
      "\u001b[1;31mValueError\u001b[0m                                Traceback (most recent call last)",
      "Cell \u001b[1;32mIn[136], line 22\u001b[0m\n\u001b[0;32m     20\u001b[0m indice_aluno \u001b[38;5;241m=\u001b[39m \u001b[38;5;241m0\u001b[39m  \u001b[38;5;66;03m# Defina o índice da linha desejada\u001b[39;00m\n\u001b[0;32m     21\u001b[0m tipo_teste \u001b[38;5;241m=\u001b[39m \u001b[38;5;124m'\u001b[39m\u001b[38;5;124mCORRIDA 6MIN\u001b[39m\u001b[38;5;124m'\u001b[39m\n\u001b[1;32m---> 22\u001b[0m idade_estimada \u001b[38;5;241m=\u001b[39m \u001b[43mprever_idade_por_linha\u001b[49m\u001b[43m(\u001b[49m\u001b[43mindice_aluno\u001b[49m\u001b[43m,\u001b[49m\u001b[43m \u001b[49m\u001b[43mtipo_teste\u001b[49m\u001b[43m)\u001b[49m\n\u001b[0;32m     24\u001b[0m \u001b[38;5;28mprint\u001b[39m(\u001b[38;5;124mf\u001b[39m\u001b[38;5;124m\"\u001b[39m\u001b[38;5;124mA idade estimada do aluno na linha \u001b[39m\u001b[38;5;132;01m{\u001b[39;00mindice_aluno\u001b[38;5;132;01m}\u001b[39;00m\u001b[38;5;124m é: \u001b[39m\u001b[38;5;132;01m{\u001b[39;00midade_estimada\u001b[38;5;132;01m}\u001b[39;00m\u001b[38;5;124m\"\u001b[39m)\n",
      "Cell \u001b[1;32mIn[136], line 16\u001b[0m, in \u001b[0;36mprever_idade_por_linha\u001b[1;34m(indice, tipo_teste)\u001b[0m\n\u001b[0;32m     14\u001b[0m sexo \u001b[38;5;241m=\u001b[39m alunos_df\u001b[38;5;241m.\u001b[39mloc[indice, \u001b[38;5;124m'\u001b[39m\u001b[38;5;124mSEXO\u001b[39m\u001b[38;5;124m'\u001b[39m]\n\u001b[0;32m     15\u001b[0m valor_cardio \u001b[38;5;241m=\u001b[39m alunos_df\u001b[38;5;241m.\u001b[39mloc[indice, \u001b[38;5;124m'\u001b[39m\u001b[38;5;124mCARDIO\u001b[39m\u001b[38;5;124m'\u001b[39m]  \u001b[38;5;66;03m# Coluna onde está o valor de desempenho\u001b[39;00m\n\u001b[1;32m---> 16\u001b[0m idade_estimada \u001b[38;5;241m=\u001b[39m \u001b[43mestimar_idade_por_classificacao\u001b[49m\u001b[43m(\u001b[49m\u001b[43msexo\u001b[49m\u001b[43m,\u001b[49m\u001b[43m \u001b[49m\u001b[43mvalor_cardio\u001b[49m\u001b[43m,\u001b[49m\u001b[43m \u001b[49m\u001b[43mtipo_teste\u001b[49m\u001b[43m)\u001b[49m\n\u001b[0;32m     17\u001b[0m \u001b[38;5;28;01mreturn\u001b[39;00m idade_estimada\n",
      "Cell \u001b[1;32mIn[136], line 7\u001b[0m, in \u001b[0;36mestimar_idade_por_classificacao\u001b[1;34m(sexo, valor, tipo_teste)\u001b[0m\n\u001b[0;32m      4\u001b[0m \u001b[38;5;28;01mfor\u001b[39;00m idade, limites \u001b[38;5;129;01min\u001b[39;00m faixas\u001b[38;5;241m.\u001b[39mitems():\n\u001b[0;32m      5\u001b[0m     \u001b[38;5;66;03m# Verificar em qual intervalo de classificação o valor do aluno se encaixa\u001b[39;00m\n\u001b[0;32m      6\u001b[0m     \u001b[38;5;28;01mfor\u001b[39;00m classificacao \u001b[38;5;129;01min\u001b[39;00m limites\u001b[38;5;241m.\u001b[39mitems():\n\u001b[1;32m----> 7\u001b[0m         \u001b[38;5;28;01mfor\u001b[39;00m min_val,max_val \u001b[38;5;129;01min\u001b[39;00m classificacao:\n\u001b[0;32m      8\u001b[0m             \u001b[38;5;28;01mif\u001b[39;00m min_val \u001b[38;5;241m<\u001b[39m\u001b[38;5;241m=\u001b[39m valor \u001b[38;5;241m<\u001b[39m max_val:\n\u001b[0;32m      9\u001b[0m                 \u001b[38;5;28;01mreturn\u001b[39;00m idade\n",
      "\u001b[1;31mValueError\u001b[0m: too many values to unpack (expected 2)"
     ]
    }
   ],
   "source": [
    "# Função para estimar a idade com base na pontuação de desempenho e sexo\n",
    "def estimar_idade_por_classificacao(sexo, valor, tipo_teste):\n",
    "    faixas = faixas_etarias[tipo_teste][sexo]\n",
    "    for idade, limites in faixas.items():\n",
    "        # Verificar em qual intervalo de classificação o valor do aluno se encaixa\n",
    "        for classificacao in limites.items():\n",
    "            for min_val,max_val in classificacao:\n",
    "                if min_val <= valor < max_val:\n",
    "                    return idade\n",
    "    return None  # Caso não encontre uma faixa etária correspondente\n",
    "\n",
    "# Função para prever a idade para uma linha específica do DataFrame\n",
    "def prever_idade_por_linha(indice, tipo_teste):\n",
    "    sexo = alunos_df.loc[indice, 'SEXO']\n",
    "    valor_cardio = alunos_df.loc[indice, 'CARDIO']  # Coluna onde está o valor de desempenho\n",
    "    idade_estimada = estimar_idade_por_classificacao(sexo, valor_cardio, tipo_teste)\n",
    "    return idade_estimada\n",
    "\n",
    "# Exemplo de uso para prever a idade de uma linha específica\n",
    "indice_aluno = 0  # Defina o índice da linha desejada\n",
    "tipo_teste = 'CORRIDA 6MIN'\n",
    "idade_estimada = prever_idade_por_linha(indice_aluno, tipo_teste)\n",
    "\n",
    "print(f\"A idade estimada do aluno na linha {indice_aluno} é: {idade_estimada}\")\n"
   ]
  },
  {
   "cell_type": "code",
   "execution_count": 158,
   "metadata": {},
   "outputs": [
    {
     "name": "stdout",
     "output_type": "stream",
     "text": [
      "6\n",
      "7\n",
      "8\n",
      "9\n",
      "10\n",
      "11\n",
      "12\n",
      "13\n",
      "14\n",
      "15\n",
      "16\n",
      "17\n"
     ]
    }
   ],
   "source": [
    "faixas = faixas_etarias['CORRIDA 6MIN'][1]\n",
    "\n",
    "for idade, classificacoes in faixas.items():\n",
    "    for limite in classificacoes.values():\n",
    "        min_val,max_val = limite\n",
    "        if min_val <= 693.2 < max_val:\n",
    "            print(idade)\n",
    "        "
   ]
  }
 ],
 "metadata": {
  "kernelspec": {
   "display_name": "Python 3",
   "language": "python",
   "name": "python3"
  },
  "language_info": {
   "codemirror_mode": {
    "name": "ipython",
    "version": 3
   },
   "file_extension": ".py",
   "mimetype": "text/x-python",
   "name": "python",
   "nbconvert_exporter": "python",
   "pygments_lexer": "ipython3",
   "version": "3.12.2"
  }
 },
 "nbformat": 4,
 "nbformat_minor": 2
}
