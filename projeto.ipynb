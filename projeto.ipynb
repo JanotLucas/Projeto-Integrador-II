{
 "cells": [
  {
   "cell_type": "markdown",
   "metadata": {},
   "source": [
    "# Projeto Integrador II"
   ]
  },
  {
   "cell_type": "markdown",
   "metadata": {},
   "source": [
    "## 1. Bibliotecas\n"
   ]
  },
  {
   "cell_type": "code",
   "execution_count": 158,
   "metadata": {},
   "outputs": [],
   "source": [
    "import pandas as pd\n",
    "import numpy as np"
   ]
  },
  {
   "cell_type": "markdown",
   "metadata": {},
   "source": [
    "## 2. Importação da Base de dados"
   ]
  },
  {
   "cell_type": "code",
   "execution_count": 159,
   "metadata": {},
   "outputs": [],
   "source": [
    "# Carregar os dados dos alunos\n",
    "alunos_df = pd.read_csv('dados.csv', sep=';')"
   ]
  },
  {
   "cell_type": "code",
   "execution_count": 160,
   "metadata": {},
   "outputs": [
    {
     "name": "stdout",
     "output_type": "stream",
     "text": [
      "<class 'pandas.core.frame.DataFrame'>\n",
      "RangeIndex: 28 entries, 0 to 27\n",
      "Data columns (total 18 columns):\n",
      " #   Column                     Non-Null Count  Dtype \n",
      "---  ------                     --------------  ----- \n",
      " 0   SEXO                       28 non-null     int64 \n",
      " 1   PESO(Kg)                   28 non-null     object\n",
      " 2   ALTURA(cm)                 28 non-null     int64 \n",
      " 3   PERIMETRIA AB(cm)          28 non-null     int64 \n",
      " 4   RCE                        28 non-null     object\n",
      " 5   IMC                        28 non-null     object\n",
      " 6   CORRIDA 6MIN               27 non-null     object\n",
      " 7   FLEXIBILIDADE              28 non-null     int64 \n",
      " 8   ABDOMINAL                  28 non-null     int64 \n",
      " 9   FORÇA MMS                  28 non-null     int64 \n",
      " 10  VELOCIDADE                 26 non-null     object\n",
      " 11  CARDIO                     27 non-null     object\n",
      " 12  FLEXIBILIDADE2             28 non-null     object\n",
      " 13  RESISTENCIA M. LOCALIZADA  28 non-null     object\n",
      " 14  POTENCIA MMSS              28 non-null     object\n",
      " 15  POTENCIA MMII              26 non-null     object\n",
      " 16  AGILIDADE                  27 non-null     object\n",
      " 17  VELOCIDADE3                26 non-null     object\n",
      "dtypes: int64(6), object(12)\n",
      "memory usage: 4.1+ KB\n"
     ]
    }
   ],
   "source": [
    "alunos_df.info()"
   ]
  },
  {
   "cell_type": "code",
   "execution_count": 161,
   "metadata": {},
   "outputs": [
    {
     "data": {
      "text/plain": [
       "'CORRIDA 6MIN'"
      ]
     },
     "execution_count": 161,
     "metadata": {},
     "output_type": "execute_result"
    }
   ],
   "source": [
    "alunos_df.columns[6]"
   ]
  },
  {
   "cell_type": "markdown",
   "metadata": {},
   "source": [
    "## Tratamento dos dados"
   ]
  },
  {
   "cell_type": "code",
   "execution_count": 162,
   "metadata": {},
   "outputs": [],
   "source": [
    "colunas_numericas = ['PESO(Kg)', 'RCE', 'IMC', 'CORRIDA 6MIN', 'VELOCIDADE']\n",
    "\n",
    "for coluna in colunas_numericas:\n",
    "    # Removendo as vírgulas\n",
    "    alunos_df[coluna] = alunos_df[coluna].astype(str).str.replace(',', '.')\n",
    "    # Convertendo a coluna para o tpo float\n",
    "    alunos_df[coluna] = alunos_df[coluna].astype('float64')\n",
    "\n",
    "\n"
   ]
  },
  {
   "cell_type": "code",
   "execution_count": 163,
   "metadata": {},
   "outputs": [
    {
     "name": "stdout",
     "output_type": "stream",
     "text": [
      "<class 'pandas.core.frame.DataFrame'>\n",
      "RangeIndex: 28 entries, 0 to 27\n",
      "Data columns (total 18 columns):\n",
      " #   Column                     Non-Null Count  Dtype  \n",
      "---  ------                     --------------  -----  \n",
      " 0   SEXO                       28 non-null     int64  \n",
      " 1   PESO(Kg)                   28 non-null     float64\n",
      " 2   ALTURA(cm)                 28 non-null     int64  \n",
      " 3   PERIMETRIA AB(cm)          28 non-null     int64  \n",
      " 4   RCE                        28 non-null     float64\n",
      " 5   IMC                        28 non-null     float64\n",
      " 6   CORRIDA 6MIN               27 non-null     float64\n",
      " 7   FLEXIBILIDADE              28 non-null     int64  \n",
      " 8   ABDOMINAL                  28 non-null     int64  \n",
      " 9   FORÇA MMS                  28 non-null     int64  \n",
      " 10  VELOCIDADE                 26 non-null     float64\n",
      " 11  CARDIO                     27 non-null     object \n",
      " 12  FLEXIBILIDADE2             28 non-null     object \n",
      " 13  RESISTENCIA M. LOCALIZADA  28 non-null     object \n",
      " 14  POTENCIA MMSS              28 non-null     object \n",
      " 15  POTENCIA MMII              26 non-null     object \n",
      " 16  AGILIDADE                  27 non-null     object \n",
      " 17  VELOCIDADE3                26 non-null     object \n",
      "dtypes: float64(5), int64(6), object(7)\n",
      "memory usage: 4.1+ KB\n"
     ]
    }
   ],
   "source": [
    "alunos_df.info()"
   ]
  },
  {
   "cell_type": "code",
   "execution_count": 164,
   "metadata": {},
   "outputs": [
    {
     "data": {
      "text/plain": [
       "SEXO                                 0\n",
       "PESO(Kg)                          38.7\n",
       "ALTURA(cm)                         151\n",
       "PERIMETRIA AB(cm)                   68\n",
       "RCE                               0.45\n",
       "IMC                               17.0\n",
       "CORRIDA 6MIN                     693.2\n",
       "FLEXIBILIDADE                       33\n",
       "ABDOMINAL                           43\n",
       "FORÇA MMS                          260\n",
       "VELOCIDADE                        3.39\n",
       "CARDIO                           FRACO\n",
       "FLEXIBILIDADE2                RAZOAVEL\n",
       "RESISTENCIA M. LOCALIZADA    MUITO BOM\n",
       "POTENCIA MMSS                    FRACO\n",
       "POTENCIA MMII                MUITO BOM\n",
       "AGILIDADE                     RAZOAVEL\n",
       "VELOCIDADE3                  MUITO BOM\n",
       "Name: 0, dtype: object"
      ]
     },
     "execution_count": 164,
     "metadata": {},
     "output_type": "execute_result"
    }
   ],
   "source": [
    "alunos_df.loc[0]"
   ]
  },
  {
   "cell_type": "markdown",
   "metadata": {},
   "source": [
    "## Regras de Classificação"
   ]
  },
  {
   "cell_type": "code",
   "execution_count": 165,
   "metadata": {},
   "outputs": [],
   "source": [
    "faixas_etarias = {\n",
    "    'CORRIDA 6MIN': {\n",
    "        1: {\n",
    "            'FRACO': {6: (0, 730), 7: (0, 752), 8: (0, 774), 9: (0, 797), 10: (0, 817), 11: (0, 837), 12: (0, 860), 13: (0, 895), 14: (0, 939), 15: (0, 986), 16: (0, 1015), 17: (0, 1038)},\n",
    "            'RAZOAVEL': {6: (730, 826), 7: (752, 848), 8: (774, 870), 9: (797, 894), 10: (817, 916), 11: (837, 938), 12: (860, 964), 13: (895, 1004), 14: (939, 1057), 15: (986, 1112), 16: (1015, 1148), 17: (1038, 1176)},\n",
    "            'BOM': {6: (827, 956), 7: (849, 975), 8: (871, 995), 9: (895, 1018), 10: (917, 1040), 11: (939, 1062), 12: (965, 1090), 13: (1005, 1136), 14: (1058, 1197), 15: (1113, 1262), 16: (1149, 1306), 17: (1177, 1341)},\n",
    "            'MUITO BOM': {6: (956, 1316), 7: (975, 1302), 8: (995, 1300), 9: (1018, 1309), 10: (1040, 1322), 11: (1062, 1338), 12: (1090, 1366), 13: (1136, 1421), 14: (1197, 1498), 15: (1262, 1584), 16: (1306, 1643), 17: (1341, 1691)},\n",
    "            'EXCELENCIA': {6: (1317, float('inf')), 7: (1303, float('inf')), 8: (1301, float('inf')), 9: (1310, float('inf')), 10: (1323, float('inf')), 11: (1339, float('inf')), 12: (1367, float('inf')), 13: (1422, float('inf')), 14: (1499, float('inf')), 15: (1585, float('inf')), 16: (1644, float('inf')), 17: (1692, float('inf'))}\n",
    "        },\n",
    "        0: {\n",
    "            'FRACO': {6: (0, 672), 7: (0, 691), 8: (0, 707), 9: (0, 720), 10: (0, 729), 11: (0, 736), 12: (0, 743), 13: (0, 749), 14: (0, 751), 15: (0, 748), 16: (0, 746), 17: (0, 744)},\n",
    "            'RAZOAVEL': {6: (672, 767), 7: (691, 779), 8: (707, 791), 9: (720, 805), 10: (729, 819), 11: (736, 831), 12: (743, 835), 13: (749, 847), 14: (751, 857), 15: (748, 865), 16: (746, 865), 17: (744, 870)},\n",
    "            'BOM': {6: (768, 900), 7: (780, 891), 8: (792, 895), 9: (806, 911), 10: (819, 932), 11: (832, 953), 12: (836, 947), 13: (848, 968), 14: (858, 1020), 15: (865, 1022), 16: (865, 1022), 17: (871, 1027)},\n",
    "            'MUITO BOM': {6: (901, 1276), 7: (892, 1158), 8: (896, 1132), 9: (912, 1149), 10: (933, 1200), 11: (954, 1251), 12: (948, 1192), 13: (969, 1223), 14: (1021, 1271), 15: (1023, 1402), 16: (1023, 1402), 17: (1028, 1390)},\n",
    "            'EXCELENCIA': {6: (1277, float('inf')), 7: (1159, float('inf')), 8: (1133, float('inf')), 9: (1150, float('inf')), 10: (1201, float('inf')), 11: (1252, float('inf')), 12: (1193, float('inf')), 13: (1224, float('inf')), 14: (1272, float('inf')), 15: (1403, float('inf')), 16: (1403, float('inf')), 17: (1391, float('inf'))}\n",
    "        }\n",
    "    },\n",
    "    'FLEXIBILIDADE': {\n",
    "        1: {\n",
    "        'FRACO': {6: (0, 34.3), 7: (0, 33.3), 8: (0, 32.3), 9: (0, 31.3), 10: (0, 30.4), 11: (0, 29.8), 12: (0, 29.4), 13: (0, 29.1), 14: (0, 28.7), 15: (0, 28.4), 16: (0, 28.4), 17: (0, 28.7)},\n",
    "        'RAZOAVEL': {6: (34.3, 41.2), 7: (33.3, 39.6), 8: (32.3, 38.3), 9: (31.3, 37.1), 10: (30.4, 36.4), 11: (29.8, 35.6), 12: (29.4, 35.1), 13: (29.1, 35.2), 14: (28.7, 35.6), 15: (28.4, 36.3), 16: (28.4, 36.7), 17: (28.7, 36.8)},\n",
    "        'BOM': {6: (41.3, 50.3), 7: (39.7, 47.9), 8: (38.4, 45.9), 9: (37.2, 44.5), 10: (36.5, 43.8), 11: (35.7, 42.9), 12: (35.2, 42.1), 13: (35.3, 42.8), 14: (35.7, 44.7), 15: (36.4, 46.9), 16: (36.8, 48.0), 17: (36.9, 47.9)},\n",
    "        'MUITO BOM': {6: (50.4, 73.9), 7: (48.0, 68.4), 8: (46.0, 63.9), 9: (44.6, 61.4), 10: (43.9, 60.7), 11: (43.0, 59.2), 12: (42.2, 57.8), 13: (42.9, 60.5), 14: (44.8, 67.1), 15: (47.0, 73.7), 16: (48.0, 76.5), 17: (48.0, 76.1)},\n",
    "        'EXCELENCIA': {6: (74.0, float('inf')), 7: (68.5, float('inf')), 8: (64.0, float('inf')), 9: (61.5, float('inf')), 10: (60.8, float('inf')), 11: (59.3, float('inf')), 12: (57.9, float('inf')), 13: (60.6, float('inf')), 14: (67.2, float('inf')), 15: (73.8, float('inf')), 16: (76.6, float('inf')), 17: (76.2, float('inf'))}\n",
    "    },\n",
    "    0: {\n",
    "        'FRACO': {6: (0, 37.0), 7: (0, 35.3), 8: (0, 33.8), 9: (0, 32.4), 10: (0, 31.3), 11: (0, 30.6), 12: (0, 30.4), 13: (0, 30.3), 14: (0, 30.1), 15: (0, 29.6), 16: (0, 29.2), 17: (0, 28.9)},\n",
    "        'RAZOAVEL': {6: (37.0, 43.8), 7: (35.3, 41.8), 8: (33.8, 40.0), 9: (32.4, 38.6), 10: (31.3, 37.5), 11: (30.6, 36.6), 12: (30.4, 36.3), 13: (30.3, 36.6), 14: (30.1, 37.2), 15: (29.6, 37.8), 16: (29.2, 37.6), 17: (28.9, 37.4)},\n",
    "        'BOM': {6: (43.9, 52.5), 7: (41.9, 49.9), 8: (40.1, 47.8), 9: (38.7, 46.2), 10: (37.6, 45.3), 11: (36.7, 44.2), 12: (36.4, 44.3), 13: (36.6, 44.6), 14: (37.3, 46.5), 15: (37.8, 46.8), 16: (37.6, 49.5), 17: (37.5, 48.9)},\n",
    "        'MUITO BOM': {6: (52.6, 73.4), 7: (50.0, 69.1), 8: (47.9, 65.7), 9: (46.3, 63.6), 10: (45.4, 62.6), 11: (44.3, 61.0), 12: (44.3, 60.1), 13: (44.7, 62.9), 14: (46.6, 69.5), 15: (46.9, 77.1), 16: (49.6, 80.1), 17: (49.0, 79.0)},\n",
    "        'EXCELENCIA': {6: (73.5, float('inf')), 7: (69.2, float('inf')), 8: (65.8, float('inf')), 9: (63.7, float('inf')), 10: (62.7, float('inf')), 11: (61.1, float('inf')), 12: (60.2, float('inf')), 13: (63.0, float('inf')), 14: (69.6, float('inf')), 15: (77.2, float('inf')), 16: (80.2, float('inf')), 17: (79.1, float('inf'))}\n",
    "        }\n",
    "    }\n",
    "}\n"
   ]
  },
  {
   "cell_type": "code",
   "execution_count": 167,
   "metadata": {},
   "outputs": [],
   "source": [
    "valor_teste = { 'CORRIDA 6MIN': 'CARDIO', 'FLEXIBILIDADE': 'FLEXIBILIDADE2'}"
   ]
  },
  {
   "cell_type": "markdown",
   "metadata": {},
   "source": [
    "# Estimador de Idades"
   ]
  },
  {
   "cell_type": "code",
   "execution_count": 168,
   "metadata": {},
   "outputs": [],
   "source": [
    "def estimar_idade_por_classificacao(sexo, valor, tipo_teste, classificacao, idades):\n",
    "    faixas = faixas_etarias[tipo_teste][sexo][classificacao]\n",
    "    idades_possiveis=[]\n",
    "    for idade in idades:\n",
    "        valor_minimo,valor_maximo = faixas[idade]\n",
    "        if valor >= valor_minimo and valor <= valor_maximo:\n",
    "            idades_possiveis.append(idade)\n",
    "    return idades_possiveis\n",
    "    \n",
    "def estimar_idades_aluno(i):\n",
    "    sexo = alunos_df['SEXO'][i]\n",
    "    testes = ['CORRIDA 6MIN', 'FLEXIBILIDADE']\n",
    "    idades= [6,7,8,9,10,11,12,13,14,15,16,17]\n",
    "    for teste in testes:\n",
    "        try:\n",
    "            valor = alunos_df[teste][i]\n",
    "            classificacao = alunos_df[valor_teste[teste]][i]\n",
    "            idades = estimar_idade_por_classificacao(sexo,valor,teste,classificacao, idades)\n",
    "        except:\n",
    "            next\n",
    "    return idades"
   ]
  },
  {
   "cell_type": "code",
   "execution_count": 176,
   "metadata": {},
   "outputs": [],
   "source": [
    "\n",
    "alunos_df['Idade'] = [np.mean(estimar_idades_aluno(i)).round() for i in range(0, alunos_df.shape[0])]"
   ]
  },
  {
   "cell_type": "markdown",
   "metadata": {},
   "source": [
    "# Idade Biologica\n"
   ]
  },
  {
   "cell_type": "code",
   "execution_count": null,
   "metadata": {},
   "outputs": [],
   "source": []
  }
 ],
 "metadata": {
  "kernelspec": {
   "display_name": "Python 3",
   "language": "python",
   "name": "python3"
  },
  "language_info": {
   "codemirror_mode": {
    "name": "ipython",
    "version": 3
   },
   "file_extension": ".py",
   "mimetype": "text/x-python",
   "name": "python",
   "nbconvert_exporter": "python",
   "pygments_lexer": "ipython3",
   "version": "3.12.5"
  }
 },
 "nbformat": 4,
 "nbformat_minor": 2
}
